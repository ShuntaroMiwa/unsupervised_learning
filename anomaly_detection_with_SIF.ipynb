{
 "cells": [
  {
   "cell_type": "markdown",
   "id": "a3abf88a",
   "metadata": {},
   "source": [
    "## 標本影響関数（SIF: Sample Influence Function）による身長座高データの異常検知"
   ]
  },
  {
   "cell_type": "code",
   "execution_count": 129,
   "id": "9e7ac183",
   "metadata": {},
   "outputs": [
    {
     "data": {
      "text/html": [
       "<div>\n",
       "<style scoped>\n",
       "    .dataframe tbody tr th:only-of-type {\n",
       "        vertical-align: middle;\n",
       "    }\n",
       "\n",
       "    .dataframe tbody tr th {\n",
       "        vertical-align: top;\n",
       "    }\n",
       "\n",
       "    .dataframe thead th {\n",
       "        text-align: right;\n",
       "    }\n",
       "</style>\n",
       "<table border=\"1\" class=\"dataframe\">\n",
       "  <thead>\n",
       "    <tr style=\"text-align: right;\">\n",
       "      <th></th>\n",
       "      <th>身長</th>\n",
       "      <th>座高</th>\n",
       "    </tr>\n",
       "  </thead>\n",
       "  <tbody>\n",
       "    <tr>\n",
       "      <th>0</th>\n",
       "      <td>159</td>\n",
       "      <td>88</td>\n",
       "    </tr>\n",
       "    <tr>\n",
       "      <th>1</th>\n",
       "      <td>150</td>\n",
       "      <td>84</td>\n",
       "    </tr>\n",
       "    <tr>\n",
       "      <th>2</th>\n",
       "      <td>157</td>\n",
       "      <td>86</td>\n",
       "    </tr>\n",
       "    <tr>\n",
       "      <th>3</th>\n",
       "      <td>153</td>\n",
       "      <td>81</td>\n",
       "    </tr>\n",
       "    <tr>\n",
       "      <th>4</th>\n",
       "      <td>158</td>\n",
       "      <td>83</td>\n",
       "    </tr>\n",
       "  </tbody>\n",
       "</table>\n",
       "</div>"
      ],
      "text/plain": [
       "    身長  座高\n",
       "0  159  88\n",
       "1  150  84\n",
       "2  157  86\n",
       "3  153  81\n",
       "4  158  83"
      ]
     },
     "execution_count": 129,
     "metadata": {},
     "output_type": "execute_result"
    }
   ],
   "source": [
    "import pandas as pd\n",
    "import numpy as np\n",
    "import matplotlib.pyplot as plt\n",
    "import scipy.stats as stats\n",
    " \n",
    "height = pd.read_csv(\"/Users/ShuntaroMiwa/00 python/fueda/assignment.csv\")#,encoding=\"SHIFT-JIS\")\n",
    "height.head()"
   ]
  },
  {
   "cell_type": "code",
   "execution_count": 46,
   "id": "6fce5bec",
   "metadata": {},
   "outputs": [
    {
     "data": {
      "text/plain": [
       "ShapiroResult(statistic=0.965831995010376, pvalue=0.6655755639076233)"
      ]
     },
     "execution_count": 46,
     "metadata": {},
     "output_type": "execute_result"
    }
   ],
   "source": [
    "stats.shapiro(height[\"身長\"])"
   ]
  },
  {
   "cell_type": "code",
   "execution_count": 47,
   "id": "3df01415",
   "metadata": {},
   "outputs": [
    {
     "data": {
      "text/plain": [
       "ShapiroResult(statistic=0.8940091729164124, pvalue=0.031887732446193695)"
      ]
     },
     "execution_count": 47,
     "metadata": {},
     "output_type": "execute_result"
    }
   ],
   "source": [
    "stats.shapiro(height[\"座高\"])"
   ]
  },
  {
   "cell_type": "markdown",
   "id": "622cebeb",
   "metadata": {},
   "source": [
    "### シャピロ・ウィルク検定の帰無仮説は「正規分布である」であり、座高は帰無仮設が5%水準で棄却されたことにより、正規分布ではないことが示唆された。\n",
    "### →χ2分布で近似し、閾値を設定する。"
   ]
  },
  {
   "cell_type": "code",
   "execution_count": 50,
   "id": "39cd970a",
   "metadata": {},
   "outputs": [
    {
     "name": "stdout",
     "output_type": "stream",
     "text": [
      "5.991464547107983\n"
     ]
    }
   ],
   "source": [
    "#閾値の設定\n",
    "#https://qiita.com/MasafumiTsuyuki/items/2677576849abf633e412\n",
    "\n",
    "from scipy.stats import chi2\n",
    "\n",
    "m = 2    # 自由度 (特徴量の次元) を設定\n",
    "p = 0.05  # 異常検知される確率を設定\n",
    "threshold = chi2.isf(p, m)  # 異常検知の閾値を計算\n",
    "print(threshold)"
   ]
  },
  {
   "cell_type": "markdown",
   "id": "917e55a7",
   "metadata": {},
   "source": [
    "### 回帰式の作成"
   ]
  },
  {
   "cell_type": "code",
   "execution_count": 2,
   "id": "e30d79f1",
   "metadata": {},
   "outputs": [
    {
     "name": "stdout",
     "output_type": "stream",
     "text": [
      "[[0.47565492]]\n",
      "[10.38266356]\n",
      "0.5603163220885783\n"
     ]
    }
   ],
   "source": [
    "# sklearn.linear_model.LinearRegression クラスを読み込み\n",
    "from sklearn import linear_model\n",
    "clf = linear_model.LinearRegression()\n",
    "\n",
    "#https://medium.com/@yamasaKit/scikit-learn%E3%81%A7%E5%8D%98%E5%9B%9E%E5%B8%B0%E5%88%86%E6%9E%90%E3%82%92%E8%A1%8C%E3%81%86%E6%96%B9%E6%B3%95-f6baa2cb761e\n",
    "# 説明変数に \"身長\" を利用\n",
    "X = height['身長'].to_frame()#.as_matrix()\n",
    "\n",
    "# 目的変数に \"座高\" を利用\n",
    "Y = height['座高'].to_frame()#.as_matrix()\n",
    " \n",
    "# 予測モデルを作成\n",
    "clf.fit(X, Y)\n",
    " \n",
    "# 回帰係数\n",
    "coef_20= clf.coef_\n",
    "print(clf.coef_)\n",
    " \n",
    "# 切片 (誤差)\n",
    "intr_20= clf.intercept_\n",
    "print(clf.intercept_)\n",
    " \n",
    "# 決定係数\n",
    "print(clf.score(X, Y))"
   ]
  },
  {
   "cell_type": "code",
   "execution_count": 3,
   "id": "5c59edda",
   "metadata": {},
   "outputs": [
    {
     "name": "stdout",
     "output_type": "stream",
     "text": [
      "<class 'numpy.ndarray'>\n"
     ]
    }
   ],
   "source": [
    "print(type(clf.coef_))"
   ]
  },
  {
   "cell_type": "code",
   "execution_count": 4,
   "id": "290a2fa9",
   "metadata": {},
   "outputs": [
    {
     "name": "stdout",
     "output_type": "stream",
     "text": [
      "     身長\n",
      "0   159\n",
      "2   157\n",
      "3   153\n",
      "4   158\n",
      "5   152\n",
      "6   155\n",
      "7   157\n",
      "8   145\n",
      "9   158\n",
      "10  161\n",
      "11  150\n",
      "12  148\n",
      "13  154\n",
      "14  154\n",
      "15  159\n",
      "16  149\n",
      "17  155\n",
      "18  153\n",
      "19  160\n"
     ]
    }
   ],
   "source": [
    "print(X[X.index !=1])"
   ]
  },
  {
   "cell_type": "markdown",
   "id": "267d56a6",
   "metadata": {},
   "source": [
    "### SIFの算出"
   ]
  },
  {
   "cell_type": "code",
   "execution_count": 5,
   "id": "cc676af5",
   "metadata": {},
   "outputs": [],
   "source": [
    "sif_coef=[]\n",
    "sif_intr=[]\n",
    "\n",
    "for i in range(len(height.index)):\n",
    "    clf.fit(X[X.index != i], Y[Y.index != i])\n",
    "    sif_c = (len(height.index)-1)*(coef_20-clf.coef_)#19×回帰係数の差（２０サンプルー19サンプル）\n",
    "    sif_c = sif_c.flatten()\n",
    "    sif_coef.append(sif_c[0])\n",
    "    sif_i =  (len(height.index)-1)*(intr_20-clf.intercept_)#19×切片の差（２０サンプルー19サンプル）\n",
    "    sif_intr.append(sif_i[0])\n"
   ]
  },
  {
   "cell_type": "code",
   "execution_count": 6,
   "id": "d7be706f",
   "metadata": {},
   "outputs": [],
   "source": [
    "cols = ['coef', 'intr']\n",
    "sif = pd.DataFrame(index=[], columns=cols)"
   ]
  },
  {
   "cell_type": "code",
   "execution_count": 7,
   "id": "464adffa",
   "metadata": {},
   "outputs": [
    {
     "data": {
      "text/html": [
       "<div>\n",
       "<style scoped>\n",
       "    .dataframe tbody tr th:only-of-type {\n",
       "        vertical-align: middle;\n",
       "    }\n",
       "\n",
       "    .dataframe tbody tr th {\n",
       "        vertical-align: top;\n",
       "    }\n",
       "\n",
       "    .dataframe thead th {\n",
       "        text-align: right;\n",
       "    }\n",
       "</style>\n",
       "<table border=\"1\" class=\"dataframe\">\n",
       "  <thead>\n",
       "    <tr style=\"text-align: right;\">\n",
       "      <th></th>\n",
       "      <th>coef</th>\n",
       "      <th>intr</th>\n",
       "    </tr>\n",
       "  </thead>\n",
       "  <tbody>\n",
       "    <tr>\n",
       "      <th>0</th>\n",
       "      <td>0.540985</td>\n",
       "      <td>-81.380455</td>\n",
       "    </tr>\n",
       "    <tr>\n",
       "      <th>1</th>\n",
       "      <td>-0.572819</td>\n",
       "      <td>90.814896</td>\n",
       "    </tr>\n",
       "    <tr>\n",
       "      <th>2</th>\n",
       "      <td>0.139418</td>\n",
       "      <td>-20.560221</td>\n",
       "    </tr>\n",
       "    <tr>\n",
       "      <th>3</th>\n",
       "      <td>0.160665</td>\n",
       "      <td>-26.967999</td>\n",
       "    </tr>\n",
       "    <tr>\n",
       "      <th>4</th>\n",
       "      <td>-0.528172</td>\n",
       "      <td>78.885773</td>\n",
       "    </tr>\n",
       "    <tr>\n",
       "      <th>5</th>\n",
       "      <td>-0.303666</td>\n",
       "      <td>49.226153</td>\n",
       "    </tr>\n",
       "    <tr>\n",
       "      <th>6</th>\n",
       "      <td>-0.039602</td>\n",
       "      <td>5.002033</td>\n",
       "    </tr>\n",
       "    <tr>\n",
       "      <th>7</th>\n",
       "      <td>-0.305763</td>\n",
       "      <td>45.091415</td>\n",
       "    </tr>\n",
       "    <tr>\n",
       "      <th>8</th>\n",
       "      <td>2.300479</td>\n",
       "      <td>-359.563691</td>\n",
       "    </tr>\n",
       "    <tr>\n",
       "      <th>9</th>\n",
       "      <td>-0.111656</td>\n",
       "      <td>16.676463</td>\n",
       "    </tr>\n",
       "    <tr>\n",
       "      <th>10</th>\n",
       "      <td>-0.821047</td>\n",
       "      <td>124.478155</td>\n",
       "    </tr>\n",
       "    <tr>\n",
       "      <th>11</th>\n",
       "      <td>-0.320376</td>\n",
       "      <td>50.792446</td>\n",
       "    </tr>\n",
       "    <tr>\n",
       "      <th>12</th>\n",
       "      <td>0.701659</td>\n",
       "      <td>-110.315177</td>\n",
       "    </tr>\n",
       "    <tr>\n",
       "      <th>13</th>\n",
       "      <td>-0.007040</td>\n",
       "      <td>1.453161</td>\n",
       "    </tr>\n",
       "    <tr>\n",
       "      <th>14</th>\n",
       "      <td>-0.026248</td>\n",
       "      <td>5.418355</td>\n",
       "    </tr>\n",
       "    <tr>\n",
       "      <th>15</th>\n",
       "      <td>-0.275307</td>\n",
       "      <td>41.414433</td>\n",
       "    </tr>\n",
       "    <tr>\n",
       "      <th>16</th>\n",
       "      <td>-0.558244</td>\n",
       "      <td>88.066956</td>\n",
       "    </tr>\n",
       "    <tr>\n",
       "      <th>17</th>\n",
       "      <td>0.067510</td>\n",
       "      <td>-8.527022</td>\n",
       "    </tr>\n",
       "    <tr>\n",
       "      <th>18</th>\n",
       "      <td>-0.062702</td>\n",
       "      <td>10.524599</td>\n",
       "    </tr>\n",
       "    <tr>\n",
       "      <th>19</th>\n",
       "      <td>0.516451</td>\n",
       "      <td>-78.048095</td>\n",
       "    </tr>\n",
       "  </tbody>\n",
       "</table>\n",
       "</div>"
      ],
      "text/plain": [
       "        coef        intr\n",
       "0   0.540985  -81.380455\n",
       "1  -0.572819   90.814896\n",
       "2   0.139418  -20.560221\n",
       "3   0.160665  -26.967999\n",
       "4  -0.528172   78.885773\n",
       "5  -0.303666   49.226153\n",
       "6  -0.039602    5.002033\n",
       "7  -0.305763   45.091415\n",
       "8   2.300479 -359.563691\n",
       "9  -0.111656   16.676463\n",
       "10 -0.821047  124.478155\n",
       "11 -0.320376   50.792446\n",
       "12  0.701659 -110.315177\n",
       "13 -0.007040    1.453161\n",
       "14 -0.026248    5.418355\n",
       "15 -0.275307   41.414433\n",
       "16 -0.558244   88.066956\n",
       "17  0.067510   -8.527022\n",
       "18 -0.062702   10.524599\n",
       "19  0.516451  -78.048095"
      ]
     },
     "execution_count": 7,
     "metadata": {},
     "output_type": "execute_result"
    }
   ],
   "source": [
    "sif['coef'] = sif_coef\n",
    "sif['intr'] = sif_intr\n",
    "sif[:20]"
   ]
  },
  {
   "cell_type": "code",
   "execution_count": 25,
   "id": "f8d110e1",
   "metadata": {},
   "outputs": [
    {
     "data": {
      "text/plain": [
       "<matplotlib.collections.PathCollection at 0x7fcad270df40>"
      ]
     },
     "execution_count": 25,
     "metadata": {},
     "output_type": "execute_result"
    },
    {
     "data": {
      "image/png": "[encoded data removed]",
      "text/plain": [
       "<Figure size 432x288 with 1 Axes>"
      ]
     },
     "metadata": {
      "needs_background": "light"
     },
     "output_type": "display_data"
    }
   ],
   "source": [
    "plt.scatter(sif_coef, sif_intr)"
   ]
  },
  {
   "cell_type": "markdown",
   "id": "fa49958e",
   "metadata": {},
   "source": [
    "## マハラノビス距離の算出（MT法）\n",
    "### マハラノビス距離を算出し、閾値を超えたものを異常値とする。"
   ]
  },
  {
   "cell_type": "markdown",
   "id": "4a7db4d1",
   "metadata": {},
   "source": [
    "### https://qiita.com/shinmura0/items/901593e3d8a5238f8ae4"
   ]
  },
  {
   "cell_type": "code",
   "execution_count": 9,
   "id": "1b7b8f30",
   "metadata": {},
   "outputs": [
    {
     "name": "stdout",
     "output_type": "stream",
     "text": [
      "[[ 5.40985154e-01 -8.13804549e+01]\n",
      " [-5.72819252e-01  9.08148959e+01]\n",
      " [ 1.39418077e-01 -2.05602206e+01]\n",
      " [ 1.60665484e-01 -2.69679991e+01]\n",
      " [-5.28172192e-01  7.88857728e+01]\n",
      " [-3.03665732e-01  4.92261534e+01]\n",
      " [-3.96019654e-02  5.00203287e+00]\n",
      " [-3.05763178e-01  4.50914151e+01]\n",
      " [ 2.30047934e+00 -3.59563691e+02]\n",
      " [-1.11655676e-01  1.66764635e+01]\n",
      " [-8.21047143e-01  1.24478155e+02]\n",
      " [-3.20375758e-01  5.07924463e+01]\n",
      " [ 7.01659110e-01 -1.10315177e+02]\n",
      " [-7.03953443e-03  1.45316104e+00]\n",
      " [-2.62480844e-02  5.41835457e+00]\n",
      " [-2.75306808e-01  4.14144327e+01]\n",
      " [-5.58244332e-01  8.80669564e+01]\n",
      " [ 6.75099166e-02 -8.52702177e+00]\n",
      " [-6.27017145e-02  1.05245989e+01]\n",
      " [ 5.16451057e-01 -7.80480947e+01]]\n"
     ]
    }
   ],
   "source": [
    "sif_nd = np.array(sif)\n",
    "print(sif_nd)"
   ]
  },
  {
   "cell_type": "code",
   "execution_count": 67,
   "id": "63d94b12",
   "metadata": {},
   "outputs": [],
   "source": [
    "xx = np.copy(sif_nd)\n",
    "avg = np.zeros(2)\n",
    "\n",
    "#各特徴量から平均値を引く（差分）\n",
    "for i in range(2):\n",
    "    avg[i] = np.mean(sif_nd[:,i])#列に対しての平均（２列、係数と切片）\n",
    "    for j in range(len(sif_nd)):\n",
    "        xx[j,i] = sif_nd[j,i] - avg[i]#特徴量から平均を引く"
   ]
  },
  {
   "cell_type": "code",
   "execution_count": 68,
   "id": "e08f508b",
   "metadata": {},
   "outputs": [
    {
     "data": {
      "text/plain": [
       "array([ 0.02472634, -3.87589105])"
      ]
     },
     "execution_count": 68,
     "metadata": {},
     "output_type": "execute_result"
    }
   ],
   "source": [
    "avg[0:5]"
   ]
  },
  {
   "cell_type": "code",
   "execution_count": 69,
   "id": "b1294f13",
   "metadata": {},
   "outputs": [
    {
     "data": {
      "text/plain": [
       "array([[  0.51625882, -77.50456387],\n",
       "       [ -0.59754559,  94.69078698],\n",
       "       [  0.11469174, -16.68432953],\n",
       "       [  0.13593915, -23.09210803],\n",
       "       [ -0.55289853,  82.76166381]])"
      ]
     },
     "execution_count": 69,
     "metadata": {},
     "output_type": "execute_result"
    }
   ],
   "source": [
    "xx[0:5]"
   ]
  },
  {
   "cell_type": "code",
   "execution_count": 70,
   "id": "8cf6444c",
   "metadata": {},
   "outputs": [],
   "source": [
    "std = np.zeros(2)\n",
    "\n",
    "#特徴量と平均値の差分を標準偏差で割る\n",
    "for i in range(2):\n",
    "    std[i] = np.std(sif_nd[:,i], ddof=1)#列に対しての不偏標準偏差（２列、係数と切片）\n",
    "    for j in range(len(sif_nd)):\n",
    "        xx[j,i] = xx[j,i] / std[i]##差分を標準偏差で割る"
   ]
  },
  {
   "cell_type": "code",
   "execution_count": 71,
   "id": "3159411a",
   "metadata": {},
   "outputs": [
    {
     "data": {
      "text/plain": [
       "array([  0.66321325, 103.1120431 ])"
      ]
     },
     "execution_count": 71,
     "metadata": {},
     "output_type": "execute_result"
    }
   ],
   "source": [
    "std[0:2]"
   ]
  },
  {
   "cell_type": "code",
   "execution_count": 72,
   "id": "fd940c7f",
   "metadata": {},
   "outputs": [
    {
     "data": {
      "text/plain": [
       "(20, 2)"
      ]
     },
     "execution_count": 72,
     "metadata": {},
     "output_type": "execute_result"
    }
   ],
   "source": [
    "xx.shape"
   ]
  },
  {
   "cell_type": "code",
   "execution_count": 73,
   "id": "0bc62c41",
   "metadata": {},
   "outputs": [],
   "source": [
    "R = np.corrcoef(sif_nd.transpose())#相関係数（分散共分散行列。関数の都合上、sif_ndを横長にしている）\n",
    "invR = np.linalg.inv(R)#相関係数の逆行列"
   ]
  },
  {
   "cell_type": "code",
   "execution_count": 74,
   "id": "c0ef5db7",
   "metadata": {},
   "outputs": [
    {
     "name": "stdout",
     "output_type": "stream",
     "text": [
      "[[2922.23482022 2921.73477743]\n",
      " [2921.73477743 2922.23482022]]\n"
     ]
    }
   ],
   "source": [
    "print(invR)"
   ]
  },
  {
   "cell_type": "code",
   "execution_count": 75,
   "id": "50d09283",
   "metadata": {},
   "outputs": [
    {
     "name": "stdout",
     "output_type": "stream",
     "text": [
      "[[ 1.         -0.99982888]\n",
      " [-0.99982888  1.        ]]\n"
     ]
    }
   ],
   "source": [
    "print(R)#各状態量は非常に相関が高い"
   ]
  },
  {
   "cell_type": "code",
   "execution_count": 76,
   "id": "f9eb1c95",
   "metadata": {},
   "outputs": [
    {
     "data": {
      "text/plain": [
       "array([ 0.77842053, -0.75165385])"
      ]
     },
     "execution_count": 76,
     "metadata": {},
     "output_type": "execute_result"
    }
   ],
   "source": [
    "xx[0,:]"
   ]
  },
  {
   "cell_type": "code",
   "execution_count": 77,
   "id": "919521b9",
   "metadata": {},
   "outputs": [
    {
     "name": "stdout",
     "output_type": "stream",
     "text": [
      "[78.59440279 77.82930014]\n"
     ]
    }
   ],
   "source": [
    "print(np.dot(xx[0,:],invR))"
   ]
  },
  {
   "cell_type": "code",
   "execution_count": 115,
   "id": "f26be6c4",
   "metadata": {},
   "outputs": [],
   "source": [
    "#マハラノビス距離の算出\n",
    "x_return = []\n",
    "for i in range(len(sif_nd)):\n",
    "        d0 = xx[i,:]#各行の値(要素数2の横ベクトル)\n",
    "        d1 = np.dot(d0,invR)\n",
    "        d2 = np.dot(d1,d0)/2#ベクトルの内積なので転置不要／自由度で割っている\n",
    "        x_return.append(d2)"
   ]
  },
  {
   "cell_type": "code",
   "execution_count": 79,
   "id": "1c3d1a7d",
   "metadata": {},
   "outputs": [
    {
     "data": {
      "text/plain": [
       "[1.339402051011085,\n",
       " 0.8532344846457178,\n",
       " 0.194849598303398,\n",
       " 0.5493693317338506,\n",
       " 1.7412748852695046,\n",
       " 0.702677162263381,\n",
       " 0.17761606859750678,\n",
       " 0.9198511494863268,\n",
       " 6.398743031947305,\n",
       " 0.0788128681393101,\n",
       " 2.1498422243313655,\n",
       " 0.2792879429509556,\n",
       " 0.7228473846896684,\n",
       " 0.02217263964292593,\n",
       " 0.26105013644254593,\n",
       " 0.35237111132844845,\n",
       " 0.6264695964740348,\n",
       " 0.551474182485131,\n",
       " 0.09887051552368153,\n",
       " 0.9797836347280935]"
      ]
     },
     "execution_count": 79,
     "metadata": {},
     "output_type": "execute_result"
    }
   ],
   "source": [
    "x_return[0:20]"
   ]
  },
  {
   "cell_type": "markdown",
   "id": "e3cdd925",
   "metadata": {},
   "source": [
    "### カイ２乗分布による閾値5.99を超えるのは九番目のデータであり、削除の後に再度異常検出"
   ]
  },
  {
   "cell_type": "code",
   "execution_count": 130,
   "id": "6b06587d",
   "metadata": {},
   "outputs": [],
   "source": [
    "height=height.drop(height.index[[8]])"
   ]
  },
  {
   "cell_type": "code",
   "execution_count": 131,
   "id": "077cb0ca",
   "metadata": {},
   "outputs": [
    {
     "data": {
      "text/html": [
       "<div>\n",
       "<style scoped>\n",
       "    .dataframe tbody tr th:only-of-type {\n",
       "        vertical-align: middle;\n",
       "    }\n",
       "\n",
       "    .dataframe tbody tr th {\n",
       "        vertical-align: top;\n",
       "    }\n",
       "\n",
       "    .dataframe thead th {\n",
       "        text-align: right;\n",
       "    }\n",
       "</style>\n",
       "<table border=\"1\" class=\"dataframe\">\n",
       "  <thead>\n",
       "    <tr style=\"text-align: right;\">\n",
       "      <th></th>\n",
       "      <th>身長</th>\n",
       "      <th>座高</th>\n",
       "    </tr>\n",
       "  </thead>\n",
       "  <tbody>\n",
       "    <tr>\n",
       "      <th>0</th>\n",
       "      <td>159</td>\n",
       "      <td>88</td>\n",
       "    </tr>\n",
       "    <tr>\n",
       "      <th>1</th>\n",
       "      <td>150</td>\n",
       "      <td>84</td>\n",
       "    </tr>\n",
       "    <tr>\n",
       "      <th>2</th>\n",
       "      <td>157</td>\n",
       "      <td>86</td>\n",
       "    </tr>\n",
       "    <tr>\n",
       "      <th>3</th>\n",
       "      <td>153</td>\n",
       "      <td>81</td>\n",
       "    </tr>\n",
       "    <tr>\n",
       "      <th>4</th>\n",
       "      <td>158</td>\n",
       "      <td>83</td>\n",
       "    </tr>\n",
       "    <tr>\n",
       "      <th>5</th>\n",
       "      <td>152</td>\n",
       "      <td>85</td>\n",
       "    </tr>\n",
       "    <tr>\n",
       "      <th>6</th>\n",
       "      <td>155</td>\n",
       "      <td>83</td>\n",
       "    </tr>\n",
       "    <tr>\n",
       "      <th>7</th>\n",
       "      <td>157</td>\n",
       "      <td>83</td>\n",
       "    </tr>\n",
       "    <tr>\n",
       "      <th>9</th>\n",
       "      <td>158</td>\n",
       "      <td>85</td>\n",
       "    </tr>\n",
       "    <tr>\n",
       "      <th>10</th>\n",
       "      <td>161</td>\n",
       "      <td>85</td>\n",
       "    </tr>\n",
       "    <tr>\n",
       "      <th>11</th>\n",
       "      <td>150</td>\n",
       "      <td>83</td>\n",
       "    </tr>\n",
       "    <tr>\n",
       "      <th>12</th>\n",
       "      <td>148</td>\n",
       "      <td>79</td>\n",
       "    </tr>\n",
       "    <tr>\n",
       "      <th>13</th>\n",
       "      <td>154</td>\n",
       "      <td>84</td>\n",
       "    </tr>\n",
       "    <tr>\n",
       "      <th>14</th>\n",
       "      <td>154</td>\n",
       "      <td>85</td>\n",
       "    </tr>\n",
       "    <tr>\n",
       "      <th>15</th>\n",
       "      <td>159</td>\n",
       "      <td>85</td>\n",
       "    </tr>\n",
       "    <tr>\n",
       "      <th>16</th>\n",
       "      <td>149</td>\n",
       "      <td>83</td>\n",
       "    </tr>\n",
       "    <tr>\n",
       "      <th>17</th>\n",
       "      <td>155</td>\n",
       "      <td>86</td>\n",
       "    </tr>\n",
       "    <tr>\n",
       "      <th>18</th>\n",
       "      <td>153</td>\n",
       "      <td>84</td>\n",
       "    </tr>\n",
       "    <tr>\n",
       "      <th>19</th>\n",
       "      <td>160</td>\n",
       "      <td>88</td>\n",
       "    </tr>\n",
       "  </tbody>\n",
       "</table>\n",
       "</div>"
      ],
      "text/plain": [
       "     身長  座高\n",
       "0   159  88\n",
       "1   150  84\n",
       "2   157  86\n",
       "3   153  81\n",
       "4   158  83\n",
       "5   152  85\n",
       "6   155  83\n",
       "7   157  83\n",
       "9   158  85\n",
       "10  161  85\n",
       "11  150  83\n",
       "12  148  79\n",
       "13  154  84\n",
       "14  154  85\n",
       "15  159  85\n",
       "16  149  83\n",
       "17  155  86\n",
       "18  153  84\n",
       "19  160  88"
      ]
     },
     "execution_count": 131,
     "metadata": {},
     "output_type": "execute_result"
    }
   ],
   "source": [
    "height[:20]"
   ]
  },
  {
   "cell_type": "code",
   "execution_count": 132,
   "id": "b0be5e55",
   "metadata": {},
   "outputs": [
    {
     "data": {
      "text/plain": [
       "ShapiroResult(statistic=0.9593928456306458, pvalue=0.5604773163795471)"
      ]
     },
     "execution_count": 132,
     "metadata": {},
     "output_type": "execute_result"
    }
   ],
   "source": [
    "stats.shapiro(height[\"身長\"])"
   ]
  },
  {
   "cell_type": "code",
   "execution_count": 133,
   "id": "88354724",
   "metadata": {},
   "outputs": [
    {
     "data": {
      "text/plain": [
       "ShapiroResult(statistic=0.9392363429069519, pvalue=0.2554613947868347)"
      ]
     },
     "execution_count": 133,
     "metadata": {},
     "output_type": "execute_result"
    }
   ],
   "source": [
    "stats.shapiro(height[\"座高\"])"
   ]
  },
  {
   "cell_type": "markdown",
   "id": "249a9765",
   "metadata": {},
   "source": [
    "### シャピロ・ウィルク検定の帰無仮説は「正規分布である」であり、身長・座高どちらも帰無仮説が5%水準で棄却されないため、多変量正規分布である。\n",
    "### →F分布（2, 17）に従う"
   ]
  },
  {
   "cell_type": "code",
   "execution_count": 134,
   "id": "3b1e0cdf",
   "metadata": {},
   "outputs": [
    {
     "data": {
      "text/plain": [
       "(19, 2)"
      ]
     },
     "execution_count": 134,
     "metadata": {},
     "output_type": "execute_result"
    }
   ],
   "source": [
    "height.shape"
   ]
  },
  {
   "cell_type": "code",
   "execution_count": 135,
   "id": "a9114b42",
   "metadata": {},
   "outputs": [
    {
     "name": "stdout",
     "output_type": "stream",
     "text": [
      "上側確率 5%: 3.5915305684750827\n"
     ]
    }
   ],
   "source": [
    "from scipy.stats import f\n",
    "\n",
    "# 分子、分母の自由度\n",
    "dfn, dfd = 2, 17\n",
    "\n",
    "# 5%点の値(上側なので、95% を指定する)\n",
    "five = f.ppf(0.95, dfn, dfd)\n",
    "print('上側確率 5%:', five)\n",
    "\n",
    "# # 1%点の値(上側なので、99% を指定する)\n",
    "# one = f.ppf(0.99, dfn, dfd)\n",
    "# print('上側確率 1%:', one)"
   ]
  },
  {
   "cell_type": "markdown",
   "id": "6908428a",
   "metadata": {},
   "source": [
    "### F分布（2, 17）上側5%水準による閾値は3.59"
   ]
  },
  {
   "cell_type": "code",
   "execution_count": 136,
   "id": "92deb519",
   "metadata": {},
   "outputs": [
    {
     "name": "stdout",
     "output_type": "stream",
     "text": [
      "[[0.35457706]]\n",
      "[29.30706837]\n",
      "0.41202751661117387\n"
     ]
    }
   ],
   "source": [
    "from sklearn import linear_model\n",
    "clf = linear_model.LinearRegression()\n",
    "\n",
    "#https://medium.com/@yamasaKit/scikit-learn%E3%81%A7%E5%8D%98%E5%9B%9E%E5%B8%B0%E5%88%86%E6%9E%90%E3%82%92%E8%A1%8C%E3%81%86%E6%96%B9%E6%B3%95-f6baa2cb761e\n",
    "# 説明変数に \"身長\" を利用\n",
    "X = height['身長'].to_frame()#.as_matrix()\n",
    "\n",
    "# 目的変数に \"座高\" を利用\n",
    "Y = height['座高'].to_frame()#.as_matrix()\n",
    " \n",
    "# 予測モデルを作成\n",
    "clf.fit(X, Y)\n",
    " \n",
    "# 回帰係数\n",
    "coef_20= clf.coef_\n",
    "print(clf.coef_)\n",
    " \n",
    "# 切片 (誤差)\n",
    "intr_20= clf.intercept_\n",
    "print(clf.intercept_)\n",
    " \n",
    "# 決定係数\n",
    "print(clf.score(X, Y))"
   ]
  },
  {
   "cell_type": "markdown",
   "id": "5b4fc55e",
   "metadata": {},
   "source": [
    "### SIF"
   ]
  },
  {
   "cell_type": "code",
   "execution_count": 137,
   "id": "87366c01",
   "metadata": {},
   "outputs": [],
   "source": [
    "sif_coef=[]\n",
    "sif_intr=[]\n",
    "\n",
    "for i in range(len(height.index)):\n",
    "    clf.fit(X[X.index != i], Y[Y.index != i])\n",
    "    sif_c = (len(height.index)-1)*(coef_20-clf.coef_)#18×回帰係数の差\n",
    "    sif_c = sif_c.flatten()\n",
    "    sif_coef.append(sif_c[0])\n",
    "    sif_i =  (len(height.index)-1)*(intr_20-clf.intercept_)#18×切片の差\n",
    "    sif_intr.append(sif_i[0])"
   ]
  },
  {
   "cell_type": "code",
   "execution_count": 138,
   "id": "fe207ec6",
   "metadata": {},
   "outputs": [
    {
     "data": {
      "text/html": [
       "<div>\n",
       "<style scoped>\n",
       "    .dataframe tbody tr th:only-of-type {\n",
       "        vertical-align: middle;\n",
       "    }\n",
       "\n",
       "    .dataframe tbody tr th {\n",
       "        vertical-align: top;\n",
       "    }\n",
       "\n",
       "    .dataframe thead th {\n",
       "        text-align: right;\n",
       "    }\n",
       "</style>\n",
       "<table border=\"1\" class=\"dataframe\">\n",
       "  <thead>\n",
       "    <tr style=\"text-align: right;\">\n",
       "      <th></th>\n",
       "      <th>coef</th>\n",
       "      <th>intr</th>\n",
       "    </tr>\n",
       "  </thead>\n",
       "  <tbody>\n",
       "    <tr>\n",
       "      <th>0</th>\n",
       "      <td>0.719289</td>\n",
       "      <td>-108.894880</td>\n",
       "    </tr>\n",
       "    <tr>\n",
       "      <th>1</th>\n",
       "      <td>-0.559317</td>\n",
       "      <td>88.262657</td>\n",
       "    </tr>\n",
       "    <tr>\n",
       "      <th>2</th>\n",
       "      <td>0.156935</td>\n",
       "      <td>-23.257075</td>\n",
       "    </tr>\n",
       "    <tr>\n",
       "      <th>3</th>\n",
       "      <td>0.332810</td>\n",
       "      <td>-54.124494</td>\n",
       "    </tr>\n",
       "    <tr>\n",
       "      <th>4</th>\n",
       "      <td>-0.533644</td>\n",
       "      <td>80.206620</td>\n",
       "    </tr>\n",
       "    <tr>\n",
       "      <th>5</th>\n",
       "      <td>-0.367613</td>\n",
       "      <td>58.777231</td>\n",
       "    </tr>\n",
       "    <tr>\n",
       "      <th>6</th>\n",
       "      <td>-0.013943</td>\n",
       "      <td>0.892368</td>\n",
       "    </tr>\n",
       "    <tr>\n",
       "      <th>7</th>\n",
       "      <td>-0.302687</td>\n",
       "      <td>44.856689</td>\n",
       "    </tr>\n",
       "    <tr>\n",
       "      <th>8</th>\n",
       "      <td>0.000000</td>\n",
       "      <td>0.000000</td>\n",
       "    </tr>\n",
       "    <tr>\n",
       "      <th>9</th>\n",
       "      <td>-0.075628</td>\n",
       "      <td>11.366925</td>\n",
       "    </tr>\n",
       "    <tr>\n",
       "      <th>10</th>\n",
       "      <td>-0.701484</td>\n",
       "      <td>106.985295</td>\n",
       "    </tr>\n",
       "    <tr>\n",
       "      <th>11</th>\n",
       "      <td>-0.188017</td>\n",
       "      <td>29.669831</td>\n",
       "    </tr>\n",
       "    <tr>\n",
       "      <th>12</th>\n",
       "      <td>1.622427</td>\n",
       "      <td>-254.621176</td>\n",
       "    </tr>\n",
       "    <tr>\n",
       "      <th>13</th>\n",
       "      <td>-0.005185</td>\n",
       "      <td>0.891090</td>\n",
       "    </tr>\n",
       "    <tr>\n",
       "      <th>14</th>\n",
       "      <td>-0.064056</td>\n",
       "      <td>11.009651</td>\n",
       "    </tr>\n",
       "    <tr>\n",
       "      <th>15</th>\n",
       "      <td>-0.212763</td>\n",
       "      <td>32.210648</td>\n",
       "    </tr>\n",
       "    <tr>\n",
       "      <th>16</th>\n",
       "      <td>-0.404082</td>\n",
       "      <td>63.561057</td>\n",
       "    </tr>\n",
       "    <tr>\n",
       "      <th>17</th>\n",
       "      <td>0.019084</td>\n",
       "      <td>-1.221393</td>\n",
       "    </tr>\n",
       "    <tr>\n",
       "      <th>18</th>\n",
       "      <td>-0.057605</td>\n",
       "      <td>9.368173</td>\n",
       "    </tr>\n",
       "  </tbody>\n",
       "</table>\n",
       "</div>"
      ],
      "text/plain": [
       "        coef        intr\n",
       "0   0.719289 -108.894880\n",
       "1  -0.559317   88.262657\n",
       "2   0.156935  -23.257075\n",
       "3   0.332810  -54.124494\n",
       "4  -0.533644   80.206620\n",
       "5  -0.367613   58.777231\n",
       "6  -0.013943    0.892368\n",
       "7  -0.302687   44.856689\n",
       "8   0.000000    0.000000\n",
       "9  -0.075628   11.366925\n",
       "10 -0.701484  106.985295\n",
       "11 -0.188017   29.669831\n",
       "12  1.622427 -254.621176\n",
       "13 -0.005185    0.891090\n",
       "14 -0.064056   11.009651\n",
       "15 -0.212763   32.210648\n",
       "16 -0.404082   63.561057\n",
       "17  0.019084   -1.221393\n",
       "18 -0.057605    9.368173"
      ]
     },
     "execution_count": 138,
     "metadata": {},
     "output_type": "execute_result"
    }
   ],
   "source": [
    "cols = ['coef', 'intr']\n",
    "sif = pd.DataFrame(index=[], columns=cols)\n",
    "sif['coef'] = sif_coef\n",
    "sif['intr'] = sif_intr\n",
    "sif[:20]"
   ]
  },
  {
   "cell_type": "markdown",
   "id": "ccc59c80",
   "metadata": {},
   "source": [
    "### マハラノビス距離"
   ]
  },
  {
   "cell_type": "code",
   "execution_count": 139,
   "id": "849283d5",
   "metadata": {},
   "outputs": [],
   "source": [
    "sif_nd = np.array(sif)"
   ]
  },
  {
   "cell_type": "code",
   "execution_count": 140,
   "id": "43ddd594",
   "metadata": {},
   "outputs": [],
   "source": [
    "xx = np.copy(sif_nd)\n",
    "avg = np.zeros(2)\n",
    "\n",
    "#各状態量から平均値を引く\n",
    "for i in range(2):\n",
    "    avg[i] = np.mean(sif_nd[:,i])\n",
    "    for j in range(len(sif_nd)):\n",
    "        xx[j,i] = sif_nd[j,i] - avg[i]"
   ]
  },
  {
   "cell_type": "code",
   "execution_count": 141,
   "id": "5b2d6c81",
   "metadata": {},
   "outputs": [],
   "source": [
    "std = np.zeros(2)\n",
    "\n",
    "#標準偏差で割る\n",
    "for i in range(2):\n",
    "    std[i] = np.std(sif_nd[:,i], ddof=1)\n",
    "    for j in range(len(sif_nd)):\n",
    "        xx[j,i] = xx[j,i] / std[i]"
   ]
  },
  {
   "cell_type": "code",
   "execution_count": 142,
   "id": "11cd89bb",
   "metadata": {},
   "outputs": [],
   "source": [
    "R = np.corrcoef(sif_nd.transpose())\n",
    "invR = np.linalg.inv(R)"
   ]
  },
  {
   "cell_type": "code",
   "execution_count": 143,
   "id": "32dfd48b",
   "metadata": {},
   "outputs": [],
   "source": [
    "x_return = []\n",
    "for i in range(len(sif_nd)):\n",
    "        d0 = xx[i,:]\n",
    "        d1 = np.dot(d0,invR)\n",
    "        d2 = np.dot(d1,d0)*2/17#自由度の係数\n",
    "        x_return.append(d2)"
   ]
  },
  {
   "cell_type": "code",
   "execution_count": 144,
   "id": "8bf875d9",
   "metadata": {},
   "outputs": [
    {
     "data": {
      "text/plain": [
       "[0.6715744172267832,\n",
       " 0.2063400011104335,\n",
       " 0.08906723689977938,\n",
       " 0.26602122130467915,\n",
       " 0.4100452126086693,\n",
       " 0.17942545881725927,\n",
       " 0.054148902836676956,\n",
       " 0.21577720847864115,\n",
       " 0.0014942840443449618,\n",
       " 0.0033278829163219635,\n",
       " 0.3630613393439366,\n",
       " 0.024670099622721885,\n",
       " 1.387642682336103,\n",
       " 0.0027700303951305413,\n",
       " 0.061882211622087104,\n",
       " 0.03700760525833262,\n",
       " 0.09160503139441378,\n",
       " 0.15572441547240276,\n",
       " 0.013708875961492936]"
      ]
     },
     "execution_count": 144,
     "metadata": {},
     "output_type": "execute_result"
    }
   ],
   "source": [
    "x_return[0:20]"
   ]
  },
  {
   "cell_type": "markdown",
   "id": "d808a167",
   "metadata": {},
   "source": [
    "### F検定（2,17）上側確率5%水準による閾値3.59を超えるものはなく、異常値は検出されなかった。"
   ]
  }
 ],
 "metadata": {
  "kernelspec": {
   "display_name": "Python 3 (ipykernel)",
   "language": "python",
   "name": "python3"
  },
  "language_info": {
   "codemirror_mode": {
    "name": "ipython",
    "version": 3
   },
   "file_extension": ".py",
   "mimetype": "text/x-python",
   "name": "python",
   "nbconvert_exporter": "python",
   "pygments_lexer": "ipython3",
   "version": "3.8.8"
  }
 },
 "nbformat": 4,
 "nbformat_minor": 5
}
